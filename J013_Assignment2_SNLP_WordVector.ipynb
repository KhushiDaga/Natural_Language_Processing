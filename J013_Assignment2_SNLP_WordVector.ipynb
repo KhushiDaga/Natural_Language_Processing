{
 "cells": [
  {
   "cell_type": "code",
   "execution_count": null,
   "metadata": {
    "colab": {
     "base_uri": "https://localhost:8080/"
    },
    "id": "ulwsro5b4uwb",
    "outputId": "c4024e10-4671-42de-aa0c-b9218595be1d"
   },
   "outputs": [
    {
     "name": "stdout",
     "output_type": "stream",
     "text": [
      "[======================================------------] 77.8% 1293.7/1662.8MB downloaded"
     ]
    }
   ],
   "source": [
    "import gensim.downloader as api\n",
    "\n",
    "# Download the pre-trained Word2Vec model\n",
    "model = api.load('word2vec-google-news-300')\n",
    "\n",
    "# Choose 5 words\n",
    "words = ['king', 'queen', 'apple', 'banana', 'car']\n",
    "\n",
    "# Find similar words for each word\n",
    "for word in words:\n",
    "    print(f\"Similar words for '{word}':\")\n",
    "    print(model.most_similar(word, topn=5))\n",
    "    print()\n"
   ]
  },
  {
   "cell_type": "code",
   "execution_count": 2,
   "metadata": {
    "id": "q2HxIDwc5I8H"
   },
   "outputs": [],
   "source": [
    "from scipy.spatial.distance import cosine"
   ]
  },
  {
   "cell_type": "code",
   "execution_count": 1,
   "metadata": {
    "colab": {
     "base_uri": "https://localhost:8080/",
     "height": 341
    },
    "id": "boRTGQ-j7iBm",
    "outputId": "22147e72-b557-42a9-e7f6-2ee01e94f5d6"
   },
   "outputs": [
    {
     "ename": "NameError",
     "evalue": "name 'model' is not defined",
     "output_type": "error",
     "traceback": [
      "\u001b[0;31m---------------------------------------------------------------------------\u001b[0m",
      "\u001b[0;31mNameError\u001b[0m                                 Traceback (most recent call last)",
      "Cell \u001b[0;32mIn[1], line 28\u001b[0m\n\u001b[1;32m     21\u001b[0m analogies \u001b[38;5;241m=\u001b[39m [\n\u001b[1;32m     22\u001b[0m     (\u001b[38;5;124m\"\u001b[39m\u001b[38;5;124mking\u001b[39m\u001b[38;5;124m\"\u001b[39m, \u001b[38;5;124m\"\u001b[39m\u001b[38;5;124mman\u001b[39m\u001b[38;5;124m\"\u001b[39m, \u001b[38;5;124m\"\u001b[39m\u001b[38;5;124mwoman\u001b[39m\u001b[38;5;124m\"\u001b[39m),\n\u001b[1;32m     23\u001b[0m     (\u001b[38;5;124m\"\u001b[39m\u001b[38;5;124mbrother\u001b[39m\u001b[38;5;124m\"\u001b[39m, \u001b[38;5;124m\"\u001b[39m\u001b[38;5;124mboy\u001b[39m\u001b[38;5;124m\"\u001b[39m, \u001b[38;5;124m\"\u001b[39m\u001b[38;5;124mgirl\u001b[39m\u001b[38;5;124m\"\u001b[39m),\n\u001b[1;32m     24\u001b[0m     (\u001b[38;5;124m\"\u001b[39m\u001b[38;5;124mcapital\u001b[39m\u001b[38;5;124m\"\u001b[39m, \u001b[38;5;124m\"\u001b[39m\u001b[38;5;124mfrance\u001b[39m\u001b[38;5;124m\"\u001b[39m, \u001b[38;5;124m\"\u001b[39m\u001b[38;5;124mitaly\u001b[39m\u001b[38;5;124m\"\u001b[39m)\n\u001b[1;32m     25\u001b[0m ]\n\u001b[1;32m     27\u001b[0m \u001b[38;5;28;01mfor\u001b[39;00m w1, w2, w3 \u001b[38;5;129;01min\u001b[39;00m analogies:\n\u001b[0;32m---> 28\u001b[0m     result \u001b[38;5;241m=\u001b[39m analogy(w1, w2, w3)\n\u001b[1;32m     29\u001b[0m     \u001b[38;5;28;01mif\u001b[39;00m result:\n\u001b[1;32m     30\u001b[0m         \u001b[38;5;28mprint\u001b[39m(\u001b[38;5;124mf\u001b[39m\u001b[38;5;124m\"\u001b[39m\u001b[38;5;132;01m{\u001b[39;00mw1\u001b[38;5;132;01m}\u001b[39;00m\u001b[38;5;124m - \u001b[39m\u001b[38;5;132;01m{\u001b[39;00mw2\u001b[38;5;132;01m}\u001b[39;00m\u001b[38;5;124m + \u001b[39m\u001b[38;5;132;01m{\u001b[39;00mw3\u001b[38;5;132;01m}\u001b[39;00m\u001b[38;5;124m ~= \u001b[39m\u001b[38;5;132;01m{\u001b[39;00mresult[\u001b[38;5;241m0\u001b[39m][\u001b[38;5;241m0\u001b[39m]\u001b[38;5;132;01m}\u001b[39;00m\u001b[38;5;124m (similarity: \u001b[39m\u001b[38;5;132;01m{\u001b[39;00mresult[\u001b[38;5;241m0\u001b[39m][\u001b[38;5;241m1\u001b[39m]\u001b[38;5;132;01m}\u001b[39;00m\u001b[38;5;124m)\u001b[39m\u001b[38;5;124m\"\u001b[39m)\n",
      "Cell \u001b[0;32mIn[1], line 9\u001b[0m, in \u001b[0;36manalogy\u001b[0;34m(word1, word2, word3)\u001b[0m\n\u001b[1;32m      8\u001b[0m \u001b[38;5;28;01mdef\u001b[39;00m \u001b[38;5;21manalogy\u001b[39m(word1, word2, word3):\n\u001b[0;32m----> 9\u001b[0m     vec1 \u001b[38;5;241m=\u001b[39m word_vector(word1)\n\u001b[1;32m     10\u001b[0m     vec2 \u001b[38;5;241m=\u001b[39m word_vector(word2)\n\u001b[1;32m     11\u001b[0m     vec3 \u001b[38;5;241m=\u001b[39m word_vector(word3)\n",
      "Cell \u001b[0;32mIn[1], line 2\u001b[0m, in \u001b[0;36mword_vector\u001b[0;34m(word)\u001b[0m\n\u001b[1;32m      1\u001b[0m \u001b[38;5;28;01mdef\u001b[39;00m \u001b[38;5;21mword_vector\u001b[39m(word):\n\u001b[0;32m----> 2\u001b[0m     \u001b[38;5;28;01mif\u001b[39;00m word \u001b[38;5;129;01min\u001b[39;00m model\u001b[38;5;241m.\u001b[39mkey_to_index:\n\u001b[1;32m      3\u001b[0m         \u001b[38;5;28;01mreturn\u001b[39;00m model[word]\n\u001b[1;32m      4\u001b[0m     \u001b[38;5;28;01melse\u001b[39;00m:\n",
      "\u001b[0;31mNameError\u001b[0m: name 'model' is not defined"
     ]
    }
   ],
   "source": [
    "def word_vector(word):\n",
    "    if word in model.key_to_index:\n",
    "        return model[word]\n",
    "    else:\n",
    "        print(f\"Word '{word}' not found in vocabulary\")\n",
    "        return None\n",
    "\n",
    "def analogy(word1, word2, word3):\n",
    "    vec1 = word_vector(word1)\n",
    "    vec2 = word_vector(word2)\n",
    "    vec3 = word_vector(word3)\n",
    "\n",
    "    if vec1 is None or vec2 is None or vec3 is None:\n",
    "        return None\n",
    "\n",
    "    result = vec1 - vec2 + vec3\n",
    "    similar_words = model.most_similar(positive=[result], topn=1)\n",
    "    return similar_words[0]\n",
    "\n",
    "# Example analogies\n",
    "analogies = [\n",
    "    (\"king\", \"man\", \"woman\"),\n",
    "    (\"brother\", \"boy\", \"girl\"),\n",
    "    (\"capital\", \"france\", \"italy\")\n",
    "]\n",
    "\n",
    "for w1, w2, w3 in analogies:\n",
    "    result = analogy(w1, w2, w3)\n",
    "    if result:\n",
    "        print(f\"{w1} - {w2} + {w3} ~= {result[0][0]} (similarity: {result[0][1]})\")\n",
    "    else:\n",
    "        print(f\"Analogy failed for {w1}, {w2}, {w3}\")\n"
   ]
  },
  {
   "cell_type": "code",
   "execution_count": null,
   "metadata": {
    "id": "1i7XH8p774dU"
   },
   "outputs": [],
   "source": []
  }
 ],
 "metadata": {
  "colab": {
   "provenance": []
  },
  "kernelspec": {
   "display_name": "Python 3 (ipykernel)",
   "language": "python",
   "name": "python3"
  },
  "language_info": {
   "codemirror_mode": {
    "name": "ipython",
    "version": 3
   },
   "file_extension": ".py",
   "mimetype": "text/x-python",
   "name": "python",
   "nbconvert_exporter": "python",
   "pygments_lexer": "ipython3",
   "version": "3.11.7"
  }
 },
 "nbformat": 4,
 "nbformat_minor": 4
}
