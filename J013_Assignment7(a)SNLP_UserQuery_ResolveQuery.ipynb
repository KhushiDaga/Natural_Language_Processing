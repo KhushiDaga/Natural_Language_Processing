{
  "nbformat": 4,
  "nbformat_minor": 0,
  "metadata": {
    "colab": {
      "provenance": []
    },
    "kernelspec": {
      "name": "python3",
      "display_name": "Python 3"
    },
    "language_info": {
      "name": "python"
    }
  },
  "cells": [
    {
      "cell_type": "code",
      "source": [
        "pip install fuzzywuzzy"
      ],
      "metadata": {
        "colab": {
          "base_uri": "https://localhost:8080/"
        },
        "id": "2Pwjgvp7uwgy",
        "outputId": "330c8b2f-824f-49d3-bf01-13f0a11d7aa9"
      },
      "execution_count": 10,
      "outputs": [
        {
          "output_type": "stream",
          "name": "stdout",
          "text": [
            "Collecting fuzzywuzzy\n",
            "  Downloading fuzzywuzzy-0.18.0-py2.py3-none-any.whl.metadata (4.9 kB)\n",
            "Downloading fuzzywuzzy-0.18.0-py2.py3-none-any.whl (18 kB)\n",
            "Installing collected packages: fuzzywuzzy\n",
            "Successfully installed fuzzywuzzy-0.18.0\n"
          ]
        }
      ]
    },
    {
      "cell_type": "code",
      "source": [
        "import pandas as pd\n",
        "import string\n",
        "from nltk.tokenize import word_tokenize\n",
        "from nltk.corpus import stopwords\n",
        "from nltk.stem import PorterStemmer\n",
        "import nltk\n",
        "\n",
        "nltk.download('punkt')\n",
        "nltk.download('stopwords')\n",
        "\n",
        "def preprocess(text):\n",
        "    text = text.lower()  # Lowercasing\n",
        "    text = text.translate(str.maketrans('', '', string.punctuation))  # Removing punctuation\n",
        "    tokens = word_tokenize(text)  # Tokenization\n",
        "    stop_words = set(stopwords.words('english'))  # Stop words\n",
        "    tokens = [word for word in tokens if word not in stop_words]  # Removing stop words\n",
        "    stemmer = PorterStemmer()  # Stemming\n",
        "    tokens = [stemmer.stem(word) for word in tokens]\n",
        "    return ' '.join(tokens)\n",
        "\n",
        "# Example data\n",
        "resolved_queries = [\n",
        "    \"Unable to connect to the internet\",\n",
        "    \"Payment failed during checkout\",\n",
        "    \"App crashes when opening settings\",\n",
        "    \"Forgot password and unable to reset\",\n",
        "    \"Unable to upload files to the server\"\n",
        "]\n",
        "\n",
        "new_queries = [\n",
        "    \"Unabel to conect to the internet\",\n",
        "    \"Can’t connect to internet\",\n",
        "    \"Intenet not working\",\n",
        "    \"Payment failed while chekout\",\n",
        "    \"Payment did not go through during chckout\",\n",
        "    \"Payment issue at check out\",\n",
        "    \"Application crashes when opening setings\",\n",
        "    \"App crash when going to settings\",\n",
        "    \"Settings cause the app to chrash\",\n",
        "    \"Forgot passwrd and cant reset\",\n",
        "    \"Forgotten password, unable to reset\",\n",
        "    \"I can’t reset my password\",\n",
        "    \"Unable to uplod file to server\",\n",
        "    \"Can't upload files on to the server\",\n",
        "    \"File uploading to server not working\",\n",
        "    \"No internet connection, please help\",\n",
        "    \"Checkout page says payment failed\",\n",
        "    \"Settings page crashes app immediately\",\n",
        "    \"Password reset link not working\",\n",
        "    \"Server upload fails with an error message\"\n",
        "]\n",
        "\n",
        "# Preprocess the queries\n",
        "preprocessed_resolved_queries = [preprocess(q) for q in resolved_queries]\n",
        "preprocessed_new_queries = [preprocess(q) for q in new_queries]\n"
      ],
      "metadata": {
        "colab": {
          "base_uri": "https://localhost:8080/"
        },
        "id": "KRVLDa68uWBu",
        "outputId": "a56537fd-b22b-451c-e1e1-97c88abe3bce"
      },
      "execution_count": 14,
      "outputs": [
        {
          "output_type": "stream",
          "name": "stderr",
          "text": [
            "[nltk_data] Downloading package punkt to /root/nltk_data...\n",
            "[nltk_data]   Package punkt is already up-to-date!\n",
            "[nltk_data] Downloading package stopwords to /root/nltk_data...\n",
            "[nltk_data]   Package stopwords is already up-to-date!\n"
          ]
        }
      ]
    },
    {
      "cell_type": "code",
      "source": [
        "from fuzzywuzzy import fuzz\n",
        "\n",
        "def fuzzy_match(query, resolved_queries):\n",
        "    matches = [(resolved_query, fuzz.ratio(query, resolved_query)) for resolved_query in resolved_queries]\n",
        "    best_match = max(matches, key=lambda x: x[1])\n",
        "    return best_match\n",
        "\n",
        "# Perform fuzzy matching\n",
        "for uq in new_queries:\n",
        "    preprocessed_uq = preprocess(uq)\n",
        "    match = fuzzy_match(preprocessed_uq, preprocessed_resolved_queries)\n",
        "    print(f\"New Query: '{uq}'\")\n",
        "    print(f\"Best Match: '{match[0]}' with Score: {match[1]}\")\n",
        "    print(\"---\")\n",
        "\n"
      ],
      "metadata": {
        "colab": {
          "base_uri": "https://localhost:8080/"
        },
        "id": "6hUv3_PvuWEB",
        "outputId": "d456f80b-eb77-42f6-b4c7-c59254957289"
      },
      "execution_count": 16,
      "outputs": [
        {
          "output_type": "stream",
          "name": "stdout",
          "text": [
            "New Query: 'Unabel to conect to the internet'\n",
            "Best Match: 'unabl connect internet' with Score: 95\n",
            "---\n",
            "New Query: 'Can’t connect to internet'\n",
            "Best Match: 'unabl connect internet' with Score: 85\n",
            "---\n",
            "New Query: 'Intenet not working'\n",
            "Best Match: 'unabl connect internet' with Score: 41\n",
            "---\n",
            "New Query: 'Payment failed while chekout'\n",
            "Best Match: 'payment fail checkout' with Score: 98\n",
            "---\n",
            "New Query: 'Payment did not go through during chckout'\n",
            "Best Match: 'payment fail checkout' with Score: 82\n",
            "---\n",
            "New Query: 'Payment issue at check out'\n",
            "Best Match: 'payment fail checkout' with Score: 77\n",
            "---\n",
            "New Query: 'Application crashes when opening setings'\n",
            "Best Match: 'app crash open set' with Score: 90\n",
            "---\n",
            "New Query: 'App crash when going to settings'\n",
            "Best Match: 'app crash open set' with Score: 88\n",
            "---\n",
            "New Query: 'Settings cause the app to chrash'\n",
            "Best Match: 'app crash open set' with Score: 49\n",
            "---\n",
            "New Query: 'Forgot passwrd and cant reset'\n",
            "Best Match: 'forgot password unabl reset' with Score: 85\n",
            "---\n",
            "New Query: 'Forgotten password, unable to reset'\n",
            "Best Match: 'forgot password unabl reset' with Score: 95\n",
            "---\n",
            "New Query: 'I can’t reset my password'\n",
            "Best Match: 'forgot password unabl reset' with Score: 51\n",
            "---\n",
            "New Query: 'Unable to uplod file to server'\n",
            "Best Match: 'unabl upload file server' with Score: 98\n",
            "---\n",
            "New Query: 'Can't upload files on to the server'\n",
            "Best Match: 'unabl upload file server' with Score: 85\n",
            "---\n",
            "New Query: 'File uploading to server not working'\n",
            "Best Match: 'unabl upload file server' with Score: 64\n",
            "---\n",
            "New Query: 'No internet connection, please help'\n",
            "Best Match: 'unabl connect internet' with Score: 49\n",
            "---\n",
            "New Query: 'Checkout page says payment failed'\n",
            "Best Match: 'payment fail checkout' with Score: 47\n",
            "---\n",
            "New Query: 'Settings page crashes app immediately'\n",
            "Best Match: 'app crash open set' with Score: 51\n",
            "---\n",
            "New Query: 'Password reset link not working'\n",
            "Best Match: 'forgot password unabl reset' with Score: 55\n",
            "---\n",
            "New Query: 'Server upload fails with an error message'\n",
            "Best Match: 'unabl upload file server' with Score: 55\n",
            "---\n"
          ]
        }
      ]
    },
    {
      "cell_type": "code",
      "source": [],
      "metadata": {
        "id": "PenQYl7VuWHK"
      },
      "execution_count": null,
      "outputs": []
    },
    {
      "cell_type": "code",
      "source": [
        "from sklearn.feature_extraction.text import TfidfVectorizer\n",
        "from sklearn.metrics.pairwise import cosine_similarity\n",
        "\n",
        "def tfidf_cosine_similarity(new_queries, resolved_queries):\n",
        "    vectorizer = TfidfVectorizer()\n",
        "    all_queries = new_queries + resolved_queries\n",
        "    tfidf_matrix = vectorizer.fit_transform(all_queries)\n",
        "\n",
        "    new_queries_tfidf = tfidf_matrix[:len(new_queries)]\n",
        "    resolved_queries_tfidf = tfidf_matrix[len(new_queries):]\n",
        "\n",
        "    similarities = cosine_similarity(new_queries_tfidf, resolved_queries_tfidf)\n",
        "    return similarities\n",
        "\n",
        "# Compute cosine similarities\n",
        "similarities = tfidf_cosine_similarity(preprocessed_new_queries, preprocessed_resolved_queries)\n",
        "\n",
        "for i, uq in enumerate(new_queries):\n",
        "    best_match_index = similarities[i].argmax()\n",
        "    best_match_score = similarities[i].max()\n",
        "    print(f\"New Query: '{uq}'\")\n",
        "    print(f\"Best Match: '{resolved_queries[best_match_index]}' with Cosine Similarity: {best_match_score:.2f}\")\n",
        "    print(\"---\")\n"
      ],
      "metadata": {
        "colab": {
          "base_uri": "https://localhost:8080/"
        },
        "id": "8chhokPCuWJw",
        "outputId": "948e459e-1912-4924-b1ce-c930db5beb80"
      },
      "execution_count": 17,
      "outputs": [
        {
          "output_type": "stream",
          "name": "stdout",
          "text": [
            "New Query: 'Unabel to conect to the internet'\n",
            "Best Match: 'Unable to connect to the internet' with Cosine Similarity: 0.27\n",
            "---\n",
            "New Query: 'Can’t connect to internet'\n",
            "Best Match: 'Unable to connect to the internet' with Cosine Similarity: 0.85\n",
            "---\n",
            "New Query: 'Intenet not working'\n",
            "Best Match: 'Unable to connect to the internet' with Cosine Similarity: 0.00\n",
            "---\n",
            "New Query: 'Payment failed while chekout'\n",
            "Best Match: 'Payment failed during checkout' with Cosine Similarity: 0.54\n",
            "---\n",
            "New Query: 'Payment did not go through during chckout'\n",
            "Best Match: 'Payment failed during checkout' with Cosine Similarity: 0.24\n",
            "---\n",
            "New Query: 'Payment issue at check out'\n",
            "Best Match: 'Payment failed during checkout' with Cosine Similarity: 0.23\n",
            "---\n",
            "New Query: 'Application crashes when opening setings'\n",
            "Best Match: 'App crashes when opening settings' with Cosine Similarity: 0.47\n",
            "---\n",
            "New Query: 'App crash when going to settings'\n",
            "Best Match: 'App crashes when opening settings' with Cosine Similarity: 0.68\n",
            "---\n",
            "New Query: 'Settings cause the app to chrash'\n",
            "Best Match: 'App crashes when opening settings' with Cosine Similarity: 0.40\n",
            "---\n",
            "New Query: 'Forgot passwrd and cant reset'\n",
            "Best Match: 'Forgot password and unable to reset' with Cosine Similarity: 0.48\n",
            "---\n",
            "New Query: 'Forgotten password, unable to reset'\n",
            "Best Match: 'Forgot password and unable to reset' with Cosine Similarity: 0.63\n",
            "---\n",
            "New Query: 'I can’t reset my password'\n",
            "Best Match: 'Forgot password and unable to reset' with Cosine Similarity: 0.67\n",
            "---\n",
            "New Query: 'Unable to uplod file to server'\n",
            "Best Match: 'Unable to upload files to the server' with Cosine Similarity: 0.66\n",
            "---\n",
            "New Query: 'Can't upload files on to the server'\n",
            "Best Match: 'Unable to upload files to the server' with Cosine Similarity: 0.72\n",
            "---\n",
            "New Query: 'File uploading to server not working'\n",
            "Best Match: 'Unable to upload files to the server' with Cosine Similarity: 0.74\n",
            "---\n",
            "New Query: 'No internet connection, please help'\n",
            "Best Match: 'Unable to connect to the internet' with Cosine Similarity: 0.52\n",
            "---\n",
            "New Query: 'Checkout page says payment failed'\n",
            "Best Match: 'Payment failed during checkout' with Cosine Similarity: 0.71\n",
            "---\n",
            "New Query: 'Settings page crashes app immediately'\n",
            "Best Match: 'App crashes when opening settings' with Cosine Similarity: 0.57\n",
            "---\n",
            "New Query: 'Password reset link not working'\n",
            "Best Match: 'Forgot password and unable to reset' with Cosine Similarity: 0.42\n",
            "---\n",
            "New Query: 'Server upload fails with an error message'\n",
            "Best Match: 'Unable to upload files to the server' with Cosine Similarity: 0.38\n",
            "---\n"
          ]
        }
      ]
    }
  ]
}