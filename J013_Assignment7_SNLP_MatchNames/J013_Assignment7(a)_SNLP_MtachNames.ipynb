{
  "nbformat": 4,
  "nbformat_minor": 0,
  "metadata": {
    "colab": {
      "provenance": []
    },
    "kernelspec": {
      "name": "python3",
      "display_name": "Python 3"
    },
    "language_info": {
      "name": "python"
    }
  },
  "cells": [
    {
      "cell_type": "code",
      "source": [
        "pip install pandas fuzzywuzzy\n"
      ],
      "metadata": {
        "colab": {
          "base_uri": "https://localhost:8080/"
        },
        "id": "bLuQ8rEKzCkX",
        "outputId": "59e5e8ac-1236-4bdd-d20a-b83bcd1b42bc"
      },
      "execution_count": 18,
      "outputs": [
        {
          "output_type": "stream",
          "name": "stdout",
          "text": [
            "Requirement already satisfied: pandas in /usr/local/lib/python3.10/dist-packages (2.1.4)\n",
            "Requirement already satisfied: fuzzywuzzy in /usr/local/lib/python3.10/dist-packages (0.18.0)\n",
            "Requirement already satisfied: numpy<2,>=1.22.4 in /usr/local/lib/python3.10/dist-packages (from pandas) (1.26.4)\n",
            "Requirement already satisfied: python-dateutil>=2.8.2 in /usr/local/lib/python3.10/dist-packages (from pandas) (2.8.2)\n",
            "Requirement already satisfied: pytz>=2020.1 in /usr/local/lib/python3.10/dist-packages (from pandas) (2024.1)\n",
            "Requirement already satisfied: tzdata>=2022.1 in /usr/local/lib/python3.10/dist-packages (from pandas) (2024.1)\n",
            "Requirement already satisfied: six>=1.5 in /usr/local/lib/python3.10/dist-packages (from python-dateutil>=2.8.2->pandas) (1.16.0)\n"
          ]
        }
      ]
    },
    {
      "cell_type": "code",
      "source": [
        "import pandas as pd\n",
        "from fuzzywuzzy import fuzz\n",
        "from fuzzywuzzy import process\n",
        "\n",
        "import pandas as pd\n",
        "\n",
        "# Load data from CSV files\n",
        "base_names_df = pd.read_csv('/content/sample_data/Book 3(Sheet1).csv')\n",
        "variations_df = pd.read_csv('/content/sample_data/Book4(Sheet1).csv')\n",
        "\n"
      ],
      "metadata": {
        "id": "Kzz0QEMWzEy2"
      },
      "execution_count": 28,
      "outputs": []
    },
    {
      "cell_type": "code",
      "source": [
        "# Convert columns to string and handle NaN values\n",
        "base_names_df['Base_Name'] = base_names_df['Base_Name'].astype(str)\n",
        "variations_df['Variation'] = variations_df['Variation'].astype(str)\n"
      ],
      "metadata": {
        "id": "CNOgeNok0xHl"
      },
      "execution_count": 30,
      "outputs": []
    },
    {
      "cell_type": "code",
      "source": [
        "# Normalize function\n",
        "def normalize(name):\n",
        "    return ''.join(e for e in name.lower() if e.isalnum())\n",
        "\n",
        "# Normalize base names and variations\n",
        "base_names_df['Normalized_Name'] = base_names_df['Base_Name'].apply(normalize)\n",
        "variations_df['Normalized_Variation'] = variations_df['Variation'].apply(normalize)\n",
        "\n",
        "# Create a dictionary of base names\n",
        "base_names_dict = base_names_df.set_index('Normalized_Name')['Base_Name'].to_dict()\n",
        "\n",
        "# Function to find matches\n",
        "def find_matches(variation, base_names_dict):\n",
        "    normalized_variation = normalize(variation)\n",
        "    matches = []\n",
        "    for base_name in base_names_dict.values():\n",
        "        score = fuzz.partial_ratio(normalized_variation, normalize(base_name))\n",
        "        if score > 80:  # Adjust the threshold as needed\n",
        "            matches.append((base_name, score))\n",
        "    return matches"
      ],
      "metadata": {
        "id": "if3W_3Hb0mpE"
      },
      "execution_count": 31,
      "outputs": []
    },
    {
      "cell_type": "code",
      "source": [
        "\n",
        "# Find matches for all variations\n",
        "variations_df['Matches'] = variations_df['Variation'].apply(lambda x: find_matches(x, base_names_dict))\n",
        "\n",
        "# Expand matches into a DataFrame for better readability\n",
        "matches_expanded = variations_df.explode('Matches')\n",
        "\n",
        "# Convert matches to separate columns\n",
        "matches_expanded[['Matched_Base_Name', 'Score']] = pd.DataFrame(matches_expanded['Matches'].tolist(), index=matches_expanded.index)\n",
        "\n",
        "# Drop the intermediate 'Matches' column\n",
        "matches_expanded = matches_expanded.drop(columns=['Matches'])\n",
        "\n",
        "# Print results\n",
        "print(matches_expanded)\n",
        "\n",
        "# Optionally save results to a CSV file\n",
        "matches_expanded.to_csv('matched_names.csv', index=False)"
      ],
      "metadata": {
        "colab": {
          "base_uri": "https://localhost:8080/"
        },
        "id": "NjuhkufB0qFc",
        "outputId": "634120d7-62d8-4836-d478-9f3397e9e711"
      },
      "execution_count": 32,
      "outputs": [
        {
          "output_type": "stream",
          "name": "stdout",
          "text": [
            "        Variation Matches_With_Base_Name  Unnamed: 2  Unnamed: 3  \\\n",
            "0    Thomas  King            Thomas King         NaN         NaN   \n",
            "1      ThomasKing            Thomas King         NaN         NaN   \n",
            "2    Maria Garcia           Maria Garcia         NaN         NaN   \n",
            "3       MaryLewis             Mary Lewis         NaN         NaN   \n",
            "4        Nancy W.           Nancy Wright         NaN         NaN   \n",
            "..            ...                    ...         ...         ...   \n",
            "97       David M.         David Martinez         NaN         NaN   \n",
            "98    Paul Allen.             Paul Allen         NaN         NaN   \n",
            "99    Paul  Allen             Paul Allen         NaN         NaN   \n",
            "100           nan                    NaN         NaN         NaN   \n",
            "100           nan                    NaN         NaN         NaN   \n",
            "\n",
            "    Normalized_Variation Matched_Base_Name  Score  \n",
            "0             thomasking       Thomas King  100.0  \n",
            "1             thomasking       Thomas King  100.0  \n",
            "2            mariagarcia      Maria Garcia  100.0  \n",
            "3              marylewis        Mary Lewis  100.0  \n",
            "4                 nancyw      Nancy Wright  100.0  \n",
            "..                   ...               ...    ...  \n",
            "97                davidm    David Martinez  100.0  \n",
            "98             paulallen        Paul Allen  100.0  \n",
            "99             paulallen        Paul Allen  100.0  \n",
            "100                  nan      Nancy Wright  100.0  \n",
            "100                  nan               nan  100.0  \n",
            "\n",
            "[105 rows x 7 columns]\n"
          ]
        }
      ]
    }
  ]
}